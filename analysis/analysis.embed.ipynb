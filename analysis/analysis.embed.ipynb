{
 "cells": [
  {
   "cell_type": "markdown",
   "metadata": {},
   "source": [
    "# analysis\n",
    "\n",
    "yamanori99\n",
    "\n",
    "# section\n",
    "\n",
    "This is a simple placeholder for the manuscript’s main document \\[@cochran2019\\].\n",
    "\n",
    "## Section\n",
    "\n",
    "This is a simple placeholder for the manuscript’s main document \\[@fujikawa2024; @natsumeda2023\\]."
   ],
   "id": "a79bacf6-f49c-40d7-8802-ec08474fdd11"
  }
 ],
 "nbformat": 4,
 "nbformat_minor": 5,
 "metadata": {}
}
