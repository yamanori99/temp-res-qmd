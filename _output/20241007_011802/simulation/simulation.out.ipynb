{
 "cells": [
  {
   "cell_type": "markdown",
   "metadata": {},
   "source": [
    "# simulation\n",
    "\n",
    "yamanori99\n",
    "\n",
    "# section\n",
    "\n",
    "This is a simple placeholder for the manuscript’s main document ([Cochran & O’Connor, 2019](#ref-cochran2019)).\n",
    "\n",
    "## Section\n",
    "\n",
    "This is a simple placeholder for the manuscript’s main document ([Fujikawa et al., 2024](#ref-fujikawa2024); [Natsumeda et al., 2023](#ref-natsumeda2023)).\n",
    "\n",
    "Cochran, C., & O’Connor, C. (2019). Inequality and inequity in the emergence of conventions. *Politics, Philosophy & Economics*. <https://doi.org/10.1177/1470594X19828371>\n",
    "\n",
    "Fujikawa, M., Yokota, K., & Nakanishi, D. (2024). Conformist bias in an information seeking situation: The between-participants design replication study. *Letters on Evolutionary Behavioral Science*, *15*(2), 31–36. <https://doi.org/10.5178/lebs.2024.118>\n",
    "\n",
    "Natsumeda, M., Yokota, K., & Nakanishi, D. (2023). Can conformity bias transcend domain specificity under social dilemma situations? *Letters on Evolutionary Behavioral Science*, *14*(2), 43–47. <https://doi.org/10.5178/lebs.2023.108>"
   ],
   "id": "0a796fbf-ad1d-4eeb-bdcd-0aed6599b832"
  }
 ],
 "nbformat": 4,
 "nbformat_minor": 5,
 "metadata": {}
}
